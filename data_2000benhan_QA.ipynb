{
  "nbformat": 4,
  "nbformat_minor": 0,
  "metadata": {
    "colab": {
      "provenance": [],
      "gpuType": "T4",
      "authorship_tag": "ABX9TyOElTdiNANVbFjUOsJuofIn",
      "include_colab_link": true
    },
    "kernelspec": {
      "name": "python3",
      "display_name": "Python 3"
    },
    "language_info": {
      "name": "python"
    },
    "accelerator": "GPU"
  },
  "cells": [
    {
      "cell_type": "markdown",
      "metadata": {
        "id": "view-in-github",
        "colab_type": "text"
      },
      "source": [
        "<a href=\"https://colab.research.google.com/github/dat1987/demo-push-my-project/blob/master/data_2000benhan_QA.ipynb\" target=\"_parent\"><img src=\"https://colab.research.google.com/assets/colab-badge.svg\" alt=\"Open In Colab\"/></a>"
      ]
    },
    {
      "cell_type": "code",
      "source": [
        "import xml.etree.ElementTree as ET\n",
        "import json\n",
        "import os\n",
        "\n",
        "# Danh sách các tệp XML cần xử lý\n",
        "file_paths = [\n",
        "    '/content/220621.0006.xml',\n",
        "    '/content/220704.0014.xml',\n",
        "    '/content/220705.0002.xml',\n",
        "    '/content/220705.0014.xml',\n",
        "    '/content/220713.0011.xml',\n",
        "    '/content/220715.0002.xml',\n",
        "    '/content/220715.0018.xml',\n",
        "    '/content/230522.0001.xml'\n",
        "]\n",
        "\n",
        "# Các thẻ thuộc phần triệu chứng và chẩn đoán\n",
        "user_tags = [\n",
        "    \"ND_CHAN_DOAN_VAO_VIEN_CC_KKB\", \"ND_CHAN_DOAN_BENH_CHINH_VV\", \"TEN_CHAN_DOAN_BENH_PHU_RV\",\n",
        "    \"TIEN_SU_BAN_THAN\", \"TIEN_SU_GIA_DINH\", \"TOAN_TRANG\", \"KHAM_HE_TUAN_HOAN\", \"KHAM_HE_HO_HAP\",\n",
        "    \"KHAM_HE_TIEU_HOA\", \"KHAM_HE_TIET_NIEU\", \"KHAM_CO_XUONG_KHOP\", \"KHAM_HE_THAN_KINH\",\n",
        "    \"XET_NGHIEM\", \"Dienbien\", \"Tomtatdienbien\", \"QUA_TRINH_BENH_LY\", \"TOM_TAT_BENH_AN\"\n",
        "]\n",
        "assistant_tags = [\"Ketluan\"]\n",
        "\n",
        "# Danh sách lưu dữ liệu đã xử lý\n",
        "data_list = []\n",
        "\n",
        "# Xử lý từng file XML\n",
        "for file_path in file_paths:\n",
        "    tree = ET.parse(file_path)\n",
        "    root = tree.getroot()\n",
        "\n",
        "    # Nội dung tạm thời cho user và assistant\n",
        "    user_content = []\n",
        "    assistant_content = []\n",
        "\n",
        "    # Trích xuất nội dung cho từng thẻ\n",
        "    for elem in root.iter():\n",
        "        if elem.tag in user_tags and elem.text:\n",
        "            user_content.append(elem.text.strip())\n",
        "        elif elem.tag in assistant_tags and elem.text:\n",
        "            assistant_content.append(elem.text.strip())\n",
        "\n",
        "    # Lưu nội dung vào data_list\n",
        "    if user_content:\n",
        "        data_list.append({\"content\": \" \".join(user_content), \"role\": \"user\"})\n",
        "    if assistant_content:\n",
        "        data_list.append({\"content\": \" \".join(assistant_content), \"role\": \"assistant\"})\n",
        "\n",
        "# Chuyển đổi dữ liệu thành JSON\n",
        "output_json = json.dumps(data_list, ensure_ascii=False, indent=4)\n",
        "\n",
        "# Lưu file JSON\n",
        "output_path = \"output_final.json\"\n",
        "with open(output_path, \"w\", encoding=\"utf-8\") as f:\n",
        "    f.write(output_json)\n",
        "\n",
        "print(f\"File JSON đã được tạo thành công tại: {os.path.abspath(output_path)}\")\n"
      ],
      "metadata": {
        "colab": {
          "base_uri": "https://localhost:8080/"
        },
        "id": "5Syh6uAygxUF",
        "outputId": "745b5201-4f8a-4480-909f-63aae30b59f8"
      },
      "execution_count": 4,
      "outputs": [
        {
          "output_type": "stream",
          "name": "stdout",
          "text": [
            "File JSON đã được tạo thành công tại: /content/output_final.json\n"
          ]
        }
      ]
    }
  ]
}